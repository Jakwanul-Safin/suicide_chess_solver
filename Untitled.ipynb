{
 "cells": [
  {
   "cell_type": "code",
   "execution_count": 5,
   "metadata": {},
   "outputs": [
    {
     "name": "stdout",
     "output_type": "stream",
     "text": [
      "4p3/4r3/3q4/8/8/8/3k3N/8 w - - 0 1\n",
      "\n",
      "[' ', ' ', ' ', ' ', 'p', ' ', ' ', ' ']\n",
      "[' ', ' ', ' ', ' ', 'r', ' ', ' ', ' ']\n",
      "[' ', ' ', ' ', 'q', ' ', ' ', ' ', ' ']\n",
      "[' ', ' ', ' ', ' ', ' ', ' ', ' ', ' ']\n",
      "[' ', ' ', ' ', ' ', ' ', ' ', ' ', ' ']\n",
      "[' ', ' ', ' ', ' ', ' ', ' ', ' ', ' ']\n",
      "[' ', ' ', ' ', 'k', ' ', ' ', ' ', 'N']\n",
      "[' ', ' ', ' ', ' ', ' ', ' ', ' ', ' ']\n"
     ]
    }
   ],
   "source": [
    "import random\n",
    "import numpy as np\n",
    "\n",
    "board = [[\" \" for x in range(8)] for y in range(8)]\n",
    "piece_list = [\"K\", \"Q\"] + [\"R\", \"B\", \"N\"] * 2 + [\"P\"]*8\n",
    " \n",
    "def place_kings(brd):\n",
    "    while True:\n",
    "        rank_white, file_white, rank_black, file_black = random.randint(0,7), random.randint(0,7), random.randint(0,7), random.randint(0,7)\n",
    "        diff_list = [abs(rank_white - rank_black),  abs(file_white - file_black)]\n",
    "        if sum(diff_list) > 2 or set(diff_list) == set([0, 2]):\n",
    "            brd[rank_white][file_white], brd[rank_black][file_black] = \"K\", \"k\"\n",
    "            break\n",
    "            \n",
    "def populate_board(brd, wp, bp):\n",
    "    for x in range(2):\n",
    "        if x == 0:\n",
    "            piece_amount = wp\n",
    "            pieces = piece_list\n",
    "        else:\n",
    "            piece_amount = bp\n",
    "            pieces = [s.lower() for s in piece_list]\n",
    "        while piece_amount != 0:\n",
    "            piece_rank, piece_file = random.randint(0, 7), random.randint(0, 7)\n",
    "            piece = random.choice(pieces)\n",
    "            if brd[piece_rank][piece_file] == \" \" and pawn_on_promotion_square(piece, piece_rank) == False:\n",
    "                brd[piece_rank][piece_file] = piece\n",
    "                piece_amount -= 1\n",
    "\n",
    "def fen_from_board(brd):\n",
    "    fen = \"\"\n",
    "    for x in brd:\n",
    "        n = 0\n",
    "        for y in x:\n",
    "            if y == \" \":\n",
    "                n += 1\n",
    "            else:\n",
    "                if n != 0:\n",
    "                    fen += str(n)\n",
    "                fen += y\n",
    "                n = 0\n",
    "        if n != 0:\n",
    "            fen += str(n)\n",
    "        fen += \"/\" if fen.count(\"/\") < 7 else \"\"\n",
    "    fen += \" w - - 0 1\\n\"\n",
    "    return fen\n",
    "\n",
    "def pawn_on_promotion_square(pc, pr):\n",
    "    if pc == \"P\" and pr == 0:\n",
    "        return True\n",
    "    elif pc == \"p\" and pr == 7:\n",
    "        return True\n",
    "    return False\n",
    "\n",
    "\n",
    "def start():\n",
    "    piece_amount_white, piece_amount_black = random.randint(0, 15), random.randint(0, 15)\n",
    "    populate_board(board, piece_amount_white, piece_amount_black)\n",
    "    print(fen_from_board(board))\n",
    "    for x in board:\n",
    "        print(x)\n",
    "\n",
    "#entry point\n",
    "start()\n"
   ]
  },
  {
   "cell_type": "code",
   "execution_count": 8,
   "metadata": {},
   "outputs": [
    {
     "name": "stdout",
     "output_type": "stream",
     "text": [
      "Collecting stockfish\n",
      "  Downloading https://files.pythonhosted.org/packages/48/b5/c0faca30a3f7a9b796b94e968e1843b93831eb032d4da91e6e2558751844/stockfish-3.5.0-py3-none-any.whl\n",
      "Installing collected packages: stockfish\n",
      "Successfully installed stockfish-3.5.0\n"
     ]
    }
   ],
   "source": [
    "!pip3 install stockfish"
   ]
  },
  {
   "cell_type": "code",
   "execution_count": null,
   "metadata": {
    "collapsed": true
   },
   "outputs": [],
   "source": [
    "import stock"
   ]
  }
 ],
 "metadata": {
  "kernelspec": {
   "display_name": "Python 3",
   "language": "python",
   "name": "python3"
  },
  "language_info": {
   "codemirror_mode": {
    "name": "ipython",
    "version": 3
   },
   "file_extension": ".py",
   "mimetype": "text/x-python",
   "name": "python",
   "nbconvert_exporter": "python",
   "pygments_lexer": "ipython3",
   "version": "3.6.2"
  }
 },
 "nbformat": 4,
 "nbformat_minor": 2
}
